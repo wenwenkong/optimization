{
 "cells": [
  {
   "cell_type": "code",
   "execution_count": null,
   "id": "c34d881f",
   "metadata": {},
   "outputs": [],
   "source": []
  },
  {
   "cell_type": "markdown",
   "id": "2e130321",
   "metadata": {},
   "source": [
    "# Problem 1\n",
    "\n",
    "<i>From Winston, W.L.; Goldberg, J.B. Operations Research: Applications and Algorithms, Fourth.; Cengage: Boston, MA, 2004. Page 127.</i>\n",
    "\n",
    "Leather Limited manufactures two types of belts: the deluxe model and the regular model. Each type requires 1 sq yd of leather. A regular belt requires 1 hour of skilled labor, and a deluxe belt requires 2 hours. Each week, 40 sq yd of leather and 60 hours of skilled labor are available. Each regular belt contributes $3 to profit and each deluxe belt, $4. Formulate an LP to maximize the profit. \n",
    "\n",
    "### Decision variables:\n",
    "\n",
    "$x_{1} = $ number of deluxe belts produced weekly\n",
    "\n",
    "$x_{2} = $ number of regular belts produced weekly \n",
    "\n",
    "### Objective function: \n",
    "$\\max z = 4x_{1} + 3x_{2}$\n",
    "\n",
    "### Constraints:\n",
    "$\\text{S.t.}$\n",
    "\n",
    "$x_{1} + x_{2} \\leq 40$\n",
    "\n",
    "$2x_{1} + x_{2} \\leq 60$\n",
    "\n",
    "$x_{1}, x_{2} \\geq 0$"
   ]
  },
  {
   "cell_type": "markdown",
   "id": "b0c7bed9",
   "metadata": {},
   "source": [
    "---\n",
    "# Problem 2\n",
    "\n",
    "<i>From Winston, W.L.; Goldberg, J.B. Operations Research: Applications and Algorithms, Fourth.; Cengage: Boston, MA, 2004, Pg. 140.</i>\n",
    "\n",
    "The Dakota Furniture Company manufactures desks, tables, and chairs. The manufacture of each type of furniture requires lumber and two types of skilled labor: finishing can carpentry. The amount of each resource neeeded to make each type of furniture is given in the below table. Currently, 48 board feet of lumber, 20 finishing hours, and 8 carpentry hours are available. A desk sells for $60, a table for $30, and a chair for $20. Dakota believes that demand for desks and chairs is unlimited, but at most five tables can be sold. Because the available resources have already been purchased, Dakota wants to maximize total revenue. \n",
    "\n",
    "| Resource | Desk | Table | Chair |\n",
    "|----------|------|-------|-------|\n",
    "| Lumber (ft) | 8 | 6 | 1 |\n",
    "| Finishing hours | 4 | 2 | 1.5 |\n",
    "| Carpentry hours | 2 | 1.5 | 0.5|\n",
    "\n",
    "\n",
    "### Decision varibles:\n",
    "\n",
    "$x_{1}$ number of desks produced\n",
    "$x_{2}$ number of tables produced\n",
    "$x_{3}$ number of chairs produced\n",
    "\n",
    "### Objective function:\n",
    "\n",
    "$\\max z = 60x_{1} + 30x_{2} + 20x_{3}$\n",
    "\n",
    "### Constraints:\n",
    "\n",
    "$\\text{S.t}$\n",
    "\n",
    "$8x_{1} + 6x_{2} + x_{3} \\leq 48$\n",
    "\n",
    "$4x_{1} + 2x_{2} + 1.5x_{3} \\leq 20$\n",
    "\n",
    "$2x_{1} + 1.5x_{2} + 0.5x_{3} \\leq 8$\n",
    "\n",
    "$x_{2} \\leq 5$\n",
    "\n",
    "----\n",
    "## A more professional way: formulating the problem using `sets`\n",
    "\n",
    "$x_{i}, I = 1, 2, 3 $\n",
    "\n",
    "$\\max z = \\sum\\limits_{i \\in I} P_{i} \\times x_{i}$\n",
    "\n",
    "$\\text{S.t}$\n",
    "\n",
    "$\\sum\\limits_{i \\in I} L_{i} \\times x_{i} \\leq 48$\n",
    "\n",
    "$\\sum\\limits_{i \\in I} F_{i} \\times x_{i} \\leq 20$\n",
    "\n",
    "$\\sum\\limits_{i \\in I} C_{i} \\times x_{i} \\leq 8$\n",
    "\n",
    "$x_{2} \\leq 5$\n"
   ]
  },
  {
   "cell_type": "code",
   "execution_count": null,
   "id": "897fc210",
   "metadata": {},
   "outputs": [],
   "source": []
  },
  {
   "cell_type": "markdown",
   "id": "a0a5f41d",
   "metadata": {},
   "source": [
    "---\n",
    "# LP Challenge Problem \n",
    "\n",
    "<i>From Winston, W.L.; Goldberg, J.B. Operations Research: Applications and Algorithms, Fourth.; Cengage: Boston, MA, 2004, Page 127.</i>\n",
    "\n",
    "Powerco has three electric power plants that supply the needs of four cities. Each power plant can supply the following numbers of kilowatt-hours (kwh) of electricity: plant 1 - 35 million; plant 2 - 50 million; plant 3 - 40 million (See below Table). The peak power demands in these cities, which occur at the same time (2 P.M.), are as follows (in kwh): city 1 - 45 million; city 2 - 20 million; city 3 - 30 million; city 4 - 30 million. The costs of sending 1 million kwh of electricy from plant to city depend on the distance the electricity must travel. Formulate an LP to minimize the cost of meeting each city's peak power demand. \n",
    "\n",
    "\n",
    "|  | City 1 | City 2 | City 3 | City 4 | Supply (Million kWh) | \n",
    "|--|--------|--------|--------|--------|----------------------|\n",
    "| Plant 1 | 8 | 6 | 10 | 9 | 35 | \n",
    "| Plant 2 | 9 | 12 | 13 | 7 | 50 |\n",
    "| Plant 3 | 14 | 9 | 16 | 5 | 40 |\n",
    "| Demand (Million kWh) | 45 | 20 | 30 | 30 | |"
   ]
  },
  {
   "cell_type": "code",
   "execution_count": null,
   "id": "a99e2aff",
   "metadata": {},
   "outputs": [],
   "source": []
  }
 ],
 "metadata": {
  "kernelspec": {
   "display_name": "Python 3",
   "language": "python",
   "name": "python3"
  },
  "language_info": {
   "codemirror_mode": {
    "name": "ipython",
    "version": 3
   },
   "file_extension": ".py",
   "mimetype": "text/x-python",
   "name": "python",
   "nbconvert_exporter": "python",
   "pygments_lexer": "ipython3",
   "version": "3.7.6"
  }
 },
 "nbformat": 4,
 "nbformat_minor": 5
}
