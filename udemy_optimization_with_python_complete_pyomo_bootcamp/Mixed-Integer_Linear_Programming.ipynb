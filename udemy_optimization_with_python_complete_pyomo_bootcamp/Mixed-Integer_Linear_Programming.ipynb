{
 "cells": [
  {
   "cell_type": "code",
   "execution_count": null,
   "id": "9f9d0a98",
   "metadata": {},
   "outputs": [],
   "source": []
  },
  {
   "cell_type": "markdown",
   "id": "0a3f0617",
   "metadata": {},
   "source": [
    "# Problem 1\n",
    "\n",
    "<i>From Winston, W.L.; Goldberg, J.B. Operations Research: Applications and Algorithms, Fourth.; Cengage: Boston, MA, 2004, Page 482.</i>\n",
    "\n",
    "Gandhi Cloth Company is capable of manufacturing three types of clothing: shirts, shorts, and pants. The manufacture of each type of clothing requires that Gandhi have the appropriate type of machinery available. The machinery needed to manufacture each type of clothing must be rented at the following rates: shirt machinery, $200 per week; shorts machinery, $150 per week; pants machinery, $100 per week. The manufacture of each type of clothing also requires the amounts of cloth and labor given in the below Table. Each week, 150 hours of labor and 160 sq yd of cloth are available. The variable unit cost and selling price for each type of clothing are shown below. Formulate an IP whose solution will maximize Gandhi's weekly profits. \n",
    "\n",
    "| Type | Sales Price | Cost | Labor (hours) | Cloth (sq yd) |\n",
    "|------|---------------|--------|---------------|---------------|\n",
    "| Shirt | 12 | 6 | 3 | 4 |\n",
    "| Shorts | 8 | 4 | 2 | 3 |\n",
    "| Pants | 15 | 8 | 6 | 4 |\n",
    "\n",
    "#### Constraint 1: At most, 150 hours of labor can be used each week \n",
    "\n",
    "#### Constraint 2: At most, 160 sq yd of cloth can be used each week"
   ]
  },
  {
   "cell_type": "code",
   "execution_count": null,
   "id": "601c19c3",
   "metadata": {},
   "outputs": [],
   "source": []
  },
  {
   "cell_type": "markdown",
   "id": "9fcd04d5",
   "metadata": {},
   "source": [
    "# Problem 2\n",
    "\n",
    "<i>From Poler R, Mula J, Diaz-Madronero M. Operation Research Problems, Springer, 2014, ISBN 978-1-4471-5577-5, Page 66.</i>\n",
    "\n",
    "A firm that produces automobile seats manufactures three seat types on two different production lines. Up to 30 workers can be used at the same time on each line to produce any seat type. Each worker is paid $400 per week on production line 1, and $600 per week on production line 2. One week of production on production line 1 costs $1000 to organize it and costs $2000 on production line 2. Below table, provides the seat units that each worker produces of each seat type in one week on each production line. The weekly demand of seats is at least 120, 000 units of seat 1, 150, 000 units of seat 2 and 200, 000 units of seat 3. Consider an integer linear programming model to minimize the total cost of the production plan to meet weekly production demands. \n",
    "\n",
    "| Production Line | Seat 1 (thousands of units) | Seat 2 (thousands of units) | Seat 3 (thousands of units)|\n",
    "|---|---|---|---|\n",
    "| 1 | 20 | 30 | 40 |\n",
    "| 2 | 50 | 35 | 45|\n"
   ]
  },
  {
   "cell_type": "code",
   "execution_count": null,
   "id": "f749efea",
   "metadata": {},
   "outputs": [],
   "source": []
  },
  {
   "cell_type": "markdown",
   "id": "a0191be5",
   "metadata": {},
   "source": [
    "# MILP Challenge Problem - Traveling Salesman Problem (TSP)\n",
    "\n",
    "<i>From Winston, W.L.; Goldberg, J.B. Operations Research: Applications and Algorithms, Fourth.; Cengage: Boston, MA, 2004, Page 532. </i>\n",
    "\n",
    "Joe State lives in Gary, Indiana. He owns insurance agencies in Gary, Fort Wayne, Evansville, Terre Haute, and South Bend. Each December, he visits each of his insurance agencies. The distance between each agency (in miles) is given in an excel file (as below). What order of visiting his agencies will minimize the total distance traveled?\n",
    "\n",
    "Suppose the TSP consists of cities $1, 2, 3, ..., N$\n",
    "\n",
    "| | City 1 | City 2 | City 3 | City 4 | City 5 |\n",
    "| -- | -- | -- | -- | -- | -- |\n",
    "| City 1 | 0 | 132 | 217 | 164 | 58|\n",
    "| City 2 | 132 | 0 | 290 | 201 | 79|\n",
    "| City 3 | 217 | 290 | 0 | 113 | 303|\n",
    "| City 4 | 164 | 201 | 113 | 0 | 196 |\n",
    "| City 5 | 58 | 79 | 303 | 196 | 0 |"
   ]
  },
  {
   "cell_type": "code",
   "execution_count": null,
   "id": "2fface1d",
   "metadata": {},
   "outputs": [],
   "source": []
  }
 ],
 "metadata": {
  "kernelspec": {
   "display_name": "Python 3",
   "language": "python",
   "name": "python3"
  },
  "language_info": {
   "codemirror_mode": {
    "name": "ipython",
    "version": 3
   },
   "file_extension": ".py",
   "mimetype": "text/x-python",
   "name": "python",
   "nbconvert_exporter": "python",
   "pygments_lexer": "ipython3",
   "version": "3.7.6"
  }
 },
 "nbformat": 4,
 "nbformat_minor": 5
}
